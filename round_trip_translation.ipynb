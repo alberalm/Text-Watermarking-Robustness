{
 "cells": [
  {
   "cell_type": "code",
   "execution_count": 1,
   "metadata": {},
   "outputs": [],
   "source": [
    "import pandas as pd\n",
    "from deep_translator import GoogleTranslator\n",
    "import os\n",
    "from tqdm import tqdm"
   ]
  },
  {
   "cell_type": "code",
   "execution_count": 5,
   "metadata": {},
   "outputs": [],
   "source": [
    "import string\n",
    "p = set(string.printable)\n",
    "\n",
    "def build_backtranslation(original_filename, backtranslatedfilename, sequence_of_translation=[\"en\", \"ru\", \"ja\", \"en\"]):\n",
    "    df = pd.read_json(original_filename, lines=True)\n",
    "    with open(backtranslatedfilename, \"r+\" if os.path.exists(backtranslatedfilename) else \"w+\") as f:\n",
    "        for i in tqdm(range(len(f.readlines()), len(df))):\n",
    "            original = df[\"input\"][i] + df[\"continuation\"][i]\n",
    "            for j in range(1, len(sequence_of_translation)):\n",
    "                original = GoogleTranslator(target=sequence_of_translation[j], source=sequence_of_translation[j-1]).translate(original)\n",
    "            _line = ''.join(filter(lambda x: x in p, df[\"input\"][i])).replace('\\n', '\\\\n').replace('\"', '\\\\\"')\n",
    "            _continuation = ''.join(filter(lambda x: x in p, df[\"continuation\"][i])).replace('\\n', '\\\\n').replace('\"', '\\\\\"')\n",
    "            _translated = ''.join(filter(lambda x: x in p, original)).replace('\\n', '\\\\n').replace('\"', '\\\\\"')\n",
    "\n",
    "            f.write(f'{{\"input\": \"{_line}\", \"continuation\": \"{_continuation}\", \"translation\": \"{_translated}\"}}\\n')\n",
    "        "
   ]
  },
  {
   "cell_type": "code",
   "execution_count": 6,
   "metadata": {},
   "outputs": [
    {
     "name": "stderr",
     "output_type": "stream",
     "text": [
      "  0%|          | 0/222 [00:00<?, ?it/s]"
     ]
    },
    {
     "name": "stderr",
     "output_type": "stream",
     "text": [
      "100%|██████████| 222/222 [37:44<00:00, 10.20s/it]\n"
     ]
    }
   ],
   "source": [
    "build_backtranslation(\"instances/kirchenbauer_no_attack.json\", \"instances/kirchenbauer_backtranslated.json\")"
   ]
  },
  {
   "cell_type": "code",
   "execution_count": null,
   "metadata": {},
   "outputs": [
    {
     "name": "stderr",
     "output_type": "stream",
     "text": [
      "  0%|          | 0/219 [00:00<?, ?it/s]"
     ]
    },
    {
     "name": "stderr",
     "output_type": "stream",
     "text": [
      "100%|██████████| 219/219 [21:04<00:00,  5.78s/it]\n"
     ]
    }
   ],
   "source": [
    "build_backtranslation(\"instances/kuditipudi_no_attack.json\", \"instances/kuditipudi_backtranslated.json\")"
   ]
  },
  {
   "cell_type": "code",
   "execution_count": null,
   "metadata": {},
   "outputs": [
    {
     "name": "stderr",
     "output_type": "stream",
     "text": [
      "  0%|          | 0/182 [00:00<?, ?it/s]"
     ]
    },
    {
     "name": "stderr",
     "output_type": "stream",
     "text": [
      "100%|██████████| 182/182 [28:07<00:00,  9.27s/it]\n"
     ]
    }
   ],
   "source": [
    "build_backtranslation(\"instances/llama_yang_no_attack.json\", \"instances/llama_yang_backtranslated.json\")"
   ]
  },
  {
   "cell_type": "code",
   "execution_count": null,
   "metadata": {},
   "outputs": [
    {
     "name": "stderr",
     "output_type": "stream",
     "text": [
      "  0%|          | 0/221 [00:00<?, ?it/s]"
     ]
    },
    {
     "name": "stderr",
     "output_type": "stream",
     "text": [
      "100%|██████████| 221/221 [38:28<00:00, 10.45s/it]\n"
     ]
    }
   ],
   "source": [
    "build_backtranslation(\"instances/opt_yang_no_attack.json\", \"instances/opt_yang_backtranslated.json\")"
   ]
  },
  {
   "cell_type": "code",
   "execution_count": null,
   "metadata": {},
   "outputs": [
    {
     "name": "stderr",
     "output_type": "stream",
     "text": [
      "  0%|          | 0/233 [00:00<?, ?it/s]"
     ]
    },
    {
     "name": "stderr",
     "output_type": "stream",
     "text": [
      "100%|██████████| 233/233 [41:29<00:00, 10.68s/it]\n"
     ]
    }
   ],
   "source": [
    "build_backtranslation(\"instances/wang_no_attack.json\", \"instances/wang_backtranslated.json\")"
   ]
  },
  {
   "cell_type": "code",
   "execution_count": null,
   "metadata": {},
   "outputs": [
    {
     "name": "stderr",
     "output_type": "stream",
     "text": [
      "100%|██████████| 230/230 [40:16<00:00, 10.51s/it]\n"
     ]
    }
   ],
   "source": [
    "build_backtranslation(\"instances/zhao_no_attack.json\", \"instances/zhao_backtranslated.json\")"
   ]
  },
  {
   "cell_type": "code",
   "execution_count": 5,
   "metadata": {},
   "outputs": [
    {
     "name": "stdout",
     "output_type": "stream",
     "text": [
      "Original: A certain politician recently lost their very high-profile, very powerful job. While this was not a surprise to other people, they say it was a surprise to them. They also say that what happened was unfair and uncalled for.\n",
      "French: A certain politician recently lost his high-profile and very powerful position. Although it wasn't a surprise to others, they say it was to them. They also say what happened was unfair and unjustified.\n",
      "Russian: A politician recently lost his very high-profile and very influential position. While it didn't come as a surprise to others, they say it came as a surprise to them. They also say what happened was unfair and inappropriate.\n",
      "Japanese: A politician recently lost a very high profile and very powerful job. It wasn't a surprise to others, but it was a surprise to them. They also say what happened was unfair and unjust.\n",
      "Chain: A politician recently lost a very high profile and influential position. It wasn't a surprise to others, but it was a surprise to them. They also claim that what happened was unfair and inappropriate.\n"
     ]
    }
   ],
   "source": [
    "or_input = \"A certain politician recently lost their very high-profile, very powerful job. While this was not a surprise to other people, they say it was a surprise to them. They also say that what happened was unfair and uncalled for.\"\n",
    "\n",
    "print(\"Original:\", or_input)\n",
    "\n",
    "sequence_of_translation = [\"en\", \"fr\", \"en\"]\n",
    "input = or_input\n",
    "\n",
    "for j in range(1, len(sequence_of_translation)):\n",
    "    input = GoogleTranslator(target=sequence_of_translation[j], source=sequence_of_translation[j-1]).translate(input)\n",
    "\n",
    "print(\"French:\", input)\n",
    "\n",
    "sequence_of_translation = [\"en\", \"ru\", \"en\"]\n",
    "input = or_input\n",
    "\n",
    "for j in range(1, len(sequence_of_translation)):\n",
    "    input = GoogleTranslator(target=sequence_of_translation[j], source=sequence_of_translation[j-1]).translate(input)\n",
    "\n",
    "print(\"Russian:\", input)\n",
    "\n",
    "sequence_of_translation = [\"en\", \"ja\", \"en\"]\n",
    "input = or_input\n",
    "\n",
    "for j in range(1, len(sequence_of_translation)):\n",
    "    input = GoogleTranslator(target=sequence_of_translation[j], source=sequence_of_translation[j-1]).translate(input)\n",
    "\n",
    "print(\"Japanese:\", input)\n",
    "\n",
    "sequence_of_translation = [\"en\", \"ru\", \"ja\", \"en\"]\n",
    "input = or_input\n",
    "\n",
    "for j in range(1, len(sequence_of_translation)):\n",
    "    input = GoogleTranslator(target=sequence_of_translation[j], source=sequence_of_translation[j-1]).translate(input)\n",
    "\n",
    "print(\"Chain:\", input)"
   ]
  }
 ],
 "metadata": {
  "kernelspec": {
   "display_name": "base",
   "language": "python",
   "name": "python3"
  },
  "language_info": {
   "codemirror_mode": {
    "name": "ipython",
    "version": 3
   },
   "file_extension": ".py",
   "mimetype": "text/x-python",
   "name": "python",
   "nbconvert_exporter": "python",
   "pygments_lexer": "ipython3",
   "version": "3.10.9"
  }
 },
 "nbformat": 4,
 "nbformat_minor": 2
}
